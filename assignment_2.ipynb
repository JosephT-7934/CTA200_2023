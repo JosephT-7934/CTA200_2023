{
 "cells": [
  {
   "cell_type": "code",
   "execution_count": 50,
   "id": "d7bb8957",
   "metadata": {},
   "outputs": [],
   "source": [
    "def f(x):\n",
    "    '''\n",
    "    Function for x^3 - x^2 - 1\n",
    "    \n",
    "    input: scalar\n",
    "    output: scalar\n",
    "    '''\n",
    "    value = x**3 - x**2 - 1\n",
    "    return value\n",
    "\n",
    "def df(x):\n",
    "    '''\n",
    "    Function for the derivative of x^3 - x^2 - 1 which is 3x^2 - 2x\n",
    "    \n",
    "    input: scalar\n",
    "    output: scalar\n",
    "    '''\n",
    "    derivative_value = 3*(x**2) - 2*x\n",
    "    return derivative_value\n",
    "\n",
    "def newton(f, df, x0, epsilon=1e-6, max_iter=30):\n",
    "    '''\n",
    "    Newton Iteration method for finding roots of function f in at most 30 iterations.\n",
    "    \n",
    "    input: (function, function derivative, scalar)\n",
    "    output: Either \"iteration failed\" from too many iterations \n",
    "            or \n",
    "            \"Found roots in n iterations\" where n is the number of iterations needed to obtain a difference in \n",
    "            roots less than epsilon.\n",
    "    '''\n",
    "    i = 0\n",
    "    n = 1\n",
    "    x_n = x0\n",
    "    while i < 100:\n",
    "        i += 1\n",
    "        x_n1 = x_n - (f(x_n) / df(x_n))\n",
    "        x_n = x_n1\n",
    "        if n > max_iter:\n",
    "            print(\"Iteration failed\")\n",
    "            break\n",
    "    \n",
    "        if abs(f(x_n)) < epsilon:\n",
    "            print(\"Found roots in\", n, \"interations\")\n",
    "            break\n",
    "        n += 1\n"
   ]
  },
  {
   "cell_type": "code",
   "execution_count": 51,
   "id": "abc4d738",
   "metadata": {},
   "outputs": [
    {
     "name": "stdout",
     "output_type": "stream",
     "text": [
      "Found roots in 12 interations\n"
     ]
    }
   ],
   "source": [
    "newton(f, df, 40)"
   ]
  },
  {
   "cell_type": "code",
   "execution_count": 52,
   "id": "e7ebf038",
   "metadata": {},
   "outputs": [
    {
     "name": "stdout",
     "output_type": "stream",
     "text": [
      "Iteration failed\n"
     ]
    }
   ],
   "source": [
    "newton(f, df, 100000)"
   ]
  },
  {
   "cell_type": "code",
   "execution_count": 53,
   "id": "89237c48",
   "metadata": {},
   "outputs": [
    {
     "name": "stdout",
     "output_type": "stream",
     "text": [
      "Found roots in 13 interations\n"
     ]
    }
   ],
   "source": [
    "newton(f, df, 40, epsilon = 1e-8)"
   ]
  },
  {
   "cell_type": "code",
   "execution_count": 54,
   "id": "49d8f7e0",
   "metadata": {},
   "outputs": [
    {
     "name": "stdout",
     "output_type": "stream",
     "text": [
      "Iteration failed\n"
     ]
    }
   ],
   "source": [
    "newton(f, df, 100000, epsilon = 1e-8)"
   ]
  },
  {
   "cell_type": "markdown",
   "id": "6e7567cd",
   "metadata": {},
   "source": [
    "The number of iterations at most increases by 1 and is dependant on the recursive x_n1 - x_n final value which sometimes lies just above the defined epsilon value."
   ]
  }
 ],
 "metadata": {
  "kernelspec": {
   "display_name": "Python 3 (ipykernel)",
   "language": "python",
   "name": "python3"
  },
  "language_info": {
   "codemirror_mode": {
    "name": "ipython",
    "version": 3
   },
   "file_extension": ".py",
   "mimetype": "text/x-python",
   "name": "python",
   "nbconvert_exporter": "python",
   "pygments_lexer": "ipython3",
   "version": "3.9.13"
  }
 },
 "nbformat": 4,
 "nbformat_minor": 5
}
